{
 "cells": [
  {
   "cell_type": "code",
   "execution_count": 1,
   "id": "8eb349b1",
   "metadata": {},
   "outputs": [
    {
     "data": {
      "text/plain": [
       "AIMessage(content='<think>\\n\\n</think>\\n\\nHello! How can I assist you today? 😊', additional_kwargs={}, response_metadata={'token_usage': {'completion_tokens': 16, 'prompt_tokens': 5, 'total_tokens': 21, 'completion_time': 0.088629372, 'prompt_time': 0.000144619, 'queue_time': 0.068264077, 'total_time': 0.088773991}, 'model_name': 'deepseek-r1-distill-llama-70b', 'system_fingerprint': 'fp_76307ac09b', 'finish_reason': 'stop', 'logprobs': None}, id='run--b8d05e86-dfbc-4235-97e2-1ca537dab8c7-0', usage_metadata={'input_tokens': 5, 'output_tokens': 16, 'total_tokens': 21})"
      ]
     },
     "execution_count": 1,
     "metadata": {},
     "output_type": "execute_result"
    }
   ],
   "source": [
    "import os\n",
    "from dotenv import load_dotenv\n",
    "from langchain_groq import ChatGroq\n",
    "\n",
    "load_dotenv()\n",
    "os.environ[\"GROQ_API_KEY\"] = os.getenv(\"GROQ_API_KEY\")\n",
    "\n",
    "llm = ChatGroq(model_name = \"deepseek-r1-distill-llama-70b\")\n",
    "\n",
    "llm.invoke(\"Hai\")"
   ]
  },
  {
   "cell_type": "code",
   "execution_count": 3,
   "id": "148eab13",
   "metadata": {},
   "outputs": [
    {
     "data": {
      "text/plain": [
       "StructuredTool(name='multiply', description='Multiply 2 integers.\\n\\nArgs:\\n    a (int) : First integer\\n    b (int) : Second integer\\n\\nReturns:\\n    int: The product of a and b', args_schema=<class 'langchain_core.utils.pydantic.multiply'>, func=<function multiply at 0x0000016CC4608AE0>)"
      ]
     },
     "execution_count": 3,
     "metadata": {},
     "output_type": "execute_result"
    }
   ],
   "source": [
    "# TOOL CREATION - 1\n",
    "from langchain.tools import tool\n",
    "\n",
    "@tool\n",
    "def multiply(a:int, b:int) -> int:\n",
    "    '''\n",
    "    Multiply 2 integers.\n",
    "\n",
    "    Args:\n",
    "        a (int) : First integer\n",
    "        b (int) : Second integer\n",
    "\n",
    "    Returns:\n",
    "        int: The product of a and b\n",
    "    '''\n",
    "    return a * b\n",
    "\n",
    "multiply"
   ]
  },
  {
   "cell_type": "code",
   "execution_count": 8,
   "id": "30184236",
   "metadata": {},
   "outputs": [
    {
     "data": {
      "text/plain": [
       "StructuredTool(name='multiply', description='Multiply 2 integers', args_schema=<class '__main__.MultiplyInput'>, func=<function multiply at 0x0000016CC4C889A0>)"
      ]
     },
     "execution_count": 8,
     "metadata": {},
     "output_type": "execute_result"
    }
   ],
   "source": [
    "# TOOL CREATION - 2 (BEST)\n",
    "from langchain_core.tools import StructuredTool\n",
    "from pydantic import BaseModel\n",
    "\n",
    "# Write the function\n",
    "def multiply(a:int, b:int) -> int:\n",
    "    return a * b\n",
    "\n",
    "# Class for pydantic validation (Used in args_schema)\n",
    "class MultiplyInput(BaseModel):\n",
    "    a: int\n",
    "    b: int\n",
    "\n",
    "# Convert to structured tool\n",
    "multiply_tool = StructuredTool.from_function(\n",
    "    func=multiply,\n",
    "    name=\"multiply\",\n",
    "    description=\"Multiply 2 integers\",\n",
    "    args_schema=MultiplyInput # Pydantic validation\n",
    ")\n",
    "\n",
    "multiply_tool"
   ]
  },
  {
   "cell_type": "code",
   "execution_count": null,
   "id": "82029c78",
   "metadata": {},
   "outputs": [],
   "source": []
  }
 ],
 "metadata": {
  "kernelspec": {
   "display_name": "ai-trip-planner",
   "language": "python",
   "name": "python3"
  },
  "language_info": {
   "codemirror_mode": {
    "name": "ipython",
    "version": 3
   },
   "file_extension": ".py",
   "mimetype": "text/x-python",
   "name": "python",
   "nbconvert_exporter": "python",
   "pygments_lexer": "ipython3",
   "version": "3.13.2"
  }
 },
 "nbformat": 4,
 "nbformat_minor": 5
}
