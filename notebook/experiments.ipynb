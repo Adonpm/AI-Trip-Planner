{
 "cells": [
  {
   "cell_type": "code",
   "execution_count": 1,
   "id": "8eb349b1",
   "metadata": {},
   "outputs": [
    {
     "data": {
      "text/plain": [
       "AIMessage(content='<think>\\n\\n</think>\\n\\nHello! How can I assist you today? 😊', additional_kwargs={}, response_metadata={'token_usage': {'completion_tokens': 16, 'prompt_tokens': 5, 'total_tokens': 21, 'completion_time': 0.088629372, 'prompt_time': 0.000144619, 'queue_time': 0.068264077, 'total_time': 0.088773991}, 'model_name': 'deepseek-r1-distill-llama-70b', 'system_fingerprint': 'fp_76307ac09b', 'finish_reason': 'stop', 'logprobs': None}, id='run--b8d05e86-dfbc-4235-97e2-1ca537dab8c7-0', usage_metadata={'input_tokens': 5, 'output_tokens': 16, 'total_tokens': 21})"
      ]
     },
     "execution_count": 1,
     "metadata": {},
     "output_type": "execute_result"
    }
   ],
   "source": [
    "import os\n",
    "from dotenv import load_dotenv\n",
    "from langchain_groq import ChatGroq\n",
    "\n",
    "load_dotenv()\n",
    "os.environ[\"GROQ_API_KEY\"] = os.getenv(\"GROQ_API_KEY\")\n",
    "\n",
    "llm = ChatGroq(model_name = \"deepseek-r1-distill-llama-70b\")\n",
    "\n",
    "llm.invoke(\"Hai\")"
   ]
  },
  {
   "cell_type": "code",
   "execution_count": 3,
   "id": "148eab13",
   "metadata": {},
   "outputs": [
    {
     "data": {
      "text/plain": [
       "StructuredTool(name='multiply', description='Multiply 2 integers.\\n\\nArgs:\\n    a (int) : First integer\\n    b (int) : Second integer\\n\\nReturns:\\n    int: The product of a and b', args_schema=<class 'langchain_core.utils.pydantic.multiply'>, func=<function multiply at 0x0000016CC4608AE0>)"
      ]
     },
     "execution_count": 3,
     "metadata": {},
     "output_type": "execute_result"
    }
   ],
   "source": [
    "# TOOL CREATION - 1\n",
    "from langchain.tools import tool\n",
    "\n",
    "@tool\n",
    "def multiply(a:int, b:int) -> int:\n",
    "    '''\n",
    "    Multiply 2 integers.\n",
    "\n",
    "    Args:\n",
    "        a (int) : First integer\n",
    "        b (int) : Second integer\n",
    "\n",
    "    Returns:\n",
    "        int: The product of a and b\n",
    "    '''\n",
    "    return a * b\n",
    "\n",
    "multiply"
   ]
  },
  {
   "cell_type": "code",
   "execution_count": 8,
   "id": "30184236",
   "metadata": {},
   "outputs": [
    {
     "data": {
      "text/plain": [
       "StructuredTool(name='multiply', description='Multiply 2 integers', args_schema=<class '__main__.MultiplyInput'>, func=<function multiply at 0x0000016CC4C889A0>)"
      ]
     },
     "execution_count": 8,
     "metadata": {},
     "output_type": "execute_result"
    }
   ],
   "source": [
    "# TOOL CREATION - 2 (BEST)\n",
    "from langchain_core.tools import StructuredTool\n",
    "from pydantic import BaseModel\n",
    "\n",
    "# Write the function\n",
    "def multiply(a:int, b:int) -> int:\n",
    "    return a * b\n",
    "\n",
    "# Class for pydantic validation (Used in args_schema)\n",
    "class MultiplyInput(BaseModel):\n",
    "    a: int\n",
    "    b: int\n",
    "\n",
    "# Convert to structured tool\n",
    "multiply_tool = StructuredTool.from_function(\n",
    "    func=multiply,\n",
    "    name=\"multiply\",\n",
    "    description=\"Multiply 2 integers\",\n",
    "    args_schema=MultiplyInput # Pydantic validation\n",
    ")\n",
    "\n",
    "multiply_tool"
   ]
  },
  {
   "cell_type": "code",
   "execution_count": 3,
   "id": "82029c78",
   "metadata": {},
   "outputs": [
    {
     "data": {
      "text/plain": [
       "{'query': 'Top attractive places in and around London',\n",
       " 'follow_up_questions': None,\n",
       " 'answer': \"London offers an exceptional array of attractions that cater to every interest, from historic landmarks to world-class cultural institutions. The city's most iconic sights include Tower Bridge, Westminster Abbey, and St Paul's Cathedral, while The View from The Shard provides breathtaking panoramic vistas across the metropolis. Royal attractions like Kensington Palace offer glimpses into Britain's monarchy, and the world-renowned British Museum, National Gallery, National Portrait Gallery, Tate Britain, and Natural History Museum house some of the planet's most significant art and historical collections. For those seeking green spaces and unique experiences, Kew Gardens showcases botanical wonders, Regent's Park serves as one of London's most beloved recreational areas and houses London Zoo, while Little Venice charms visitors with its waterfront cafes and restaurants along picturesque canals. The vibrant Camden Lock area draws crowds with its famous markets, diverse street food, and antique shops, and beyond London proper, the South East of England extends the adventure with beautiful beaches, and must-visit destinations in Sussex, Kent, and Berkshire, making the greater London region a comprehensive destination for travelers seeking both urban sophistication and natural beauty.\",\n",
       " 'images': [],\n",
       " 'results': [{'url': 'https://www.visitlondon.com/things-to-do/sightseeing/london-attraction',\n",
       "   'title': 'Discover London attractions',\n",
       "   'content': \"Top London attractions and tickets · The View from The Shard · Westminster Abbey · FRAMELESS · Kew Gardens · St Paul's Cathedral · Tower Bridge.\",\n",
       "   'score': 0.7485182,\n",
       "   'raw_content': None},\n",
       "  {'url': 'https://www.tripadvisor.com/Attractions-g186338-Activities-London_England.html',\n",
       "   'title': 'THE 15 BEST Things to Do in London (2025) - Must-See Attractions',\n",
       "   'content': \"Royalty-spotting and museum trips are top to-do's in London—from iconic landmarks like Kensington Palace and Tower Bridge to the world-renowned British Museum\",\n",
       "   'score': 0.70871735,\n",
       "   'raw_content': None},\n",
       "  {'url': 'https://travel.usnews.com/London_England/Things_To_Do/',\n",
       "   'title': \"38 Can't-Miss Things to Do in London, England | U.S. News Travel\",\n",
       "   'content': \"It passes several postcard-pretty spots, including Little Venice, where quaint cafes, pubs and restaurants sit on the waterfront; Regent's Park, one of London's most popular green spaces and the home of London Zoo; and Camden Lock, famous for its markets, street food stalls and antique shops. It passes several postcard-pretty spots, including Little Venice, where quaint cafes, pubs and restaurants sit on the waterfront; Regent's Park, one of London's most popular green spaces and the home of London Zoo; and Camden Lock, famous for its markets, street food stalls and antique shops. It passes several postcard-pretty spots, including Little Venice, where quaint cafes, pubs and restaurants sit on the waterfront; Regent's Park, one of London's most popular green spaces and the home of London Zoo; and Camden Lock, famous for its markets, street food stalls and antique shops.\",\n",
       "   'score': 0.66045773,\n",
       "   'raw_content': None},\n",
       "  {'url': 'https://www.reddit.com/r/uktravel/comments/1jkea01/what_popular_attractionssights_in_london_would/',\n",
       "   'title': 'What popular attractions/sights in London would you recommend ...',\n",
       "   'content': 'Conversely: The National Gallery, National Portrait Gallery, Westminster Abbey, Tate Britain, British Museum, and the Natural History Museum are',\n",
       "   'score': 0.61695945,\n",
       "   'raw_content': None},\n",
       "  {'url': 'https://www.visitengland.com/places-to-visit/london-and-south-east-england',\n",
       "   'title': 'Places to Visit in London & South East England | VisitEngland',\n",
       "   'content': 'Explore the best of London and the South of England, including top beaches near London and must-do activities in Sussex, Kent, and Berkshire.',\n",
       "   'score': 0.5752307,\n",
       "   'raw_content': None}],\n",
       " 'response_time': 1.32}"
      ]
     },
     "execution_count": 3,
     "metadata": {},
     "output_type": "execute_result"
    }
   ],
   "source": [
    "import os\n",
    "from langchain_tavily import TavilySearch\n",
    "os.environ[\"TAVILY_API_KEY\"] = os.getenv(\"TAVILY_API_KEY\")\n",
    "tavily_tool = TavilySearch(topic=\"general\", include_answer=\"advanced\")\n",
    "place = \"London\"\n",
    "result = tavily_tool.invoke({\"query\": f\"Top attractive places in and around {place}\"})\n",
    "result"
   ]
  },
  {
   "cell_type": "code",
   "execution_count": 4,
   "id": "d80e23ed",
   "metadata": {},
   "outputs": [
    {
     "data": {
      "text/plain": [
       "[{'title': 'must see attractions in London - Rick Steves Travel Forum',\n",
       "  'url': 'https://community.ricksteves.com/travel-forum/england/must-see-attractions-in-london',\n",
       "  'content': \"After spending a week in London, these are the places I found the most interesting:  \\n1) Churchill War Rooms ( audio tour is excellent)  \\n2) Westminster Abbey (a 5 minute walk from the Churchill War Rooms)  \\n3) Either the National Portrait Gallery or The Victoria and Albert Museum  \\n4) Saint Paul's Cathedral\\n\\nJump to top\\n\\nThis topic has been automatically closed due to a period of inactivity.\\n\\n### About Us [...] One church: Westminster Abbey  \\nBe careful of the steps. In many places, there are one or two steps up or down. The interior is somewhat dark, so look down occasionally and be careful. It would be easy to fall on those stone steps.\\n\\nOne palace: Hampton Court Palace. [...] Posted by jlkelman\\n\\n11/22/22 01:54 AM\\n\\n1288 posts\\n\\nWestminster Abbey, Tower of London, Hampton Court Palace, British Museum.\\n\\n \\n\\nPosted by bostonphil7 OP\\n\\nAustin, TX\\n\\n11/22/22 11:42 AM\\n\\n2576 posts\\n\\nThank you all for your suggestions.\\n\\nI am planning to buy Rick's book on Black Friday from Amazon.\",\n",
       "  'score': 0.758958},\n",
       " {'title': '23 Beautiful Towns Near London - Cute English Towns to Visit',\n",
       "  'url': 'https://www.aladyinlondon.com/2025/02/beautiful-towns-near-london.html',\n",
       "  'content': 'Next on my list of pretty towns near London is Windsor. Along with neighboring Eton, this town is packed with charming streets, expansive parks, and royal beauty.\\n\\nWindsor Castle is the must-see attraction here. An official residence of the monarch, it’s one of the most famous castles in England. It’s a treat to tour the interiors and see St George’s Chapel. You can book tickets here. [...] Next on my list of beautiful towns near London is Stratford-upon-Avon. This medieval market town in Warwickshire is famous for its Tudor buildings and Shakespeare connections.\\n\\nStratford is full of houses The Bard and his family lived in, theaters showing his plays, and historic streets and riverside pubs ripe for drinking and dining. [...] In West Sussex, Petworth is another of the most beautiful towns near London. This pretty place is full of picturesque streets and shops.\\n\\nIt’s also home to the famous Petworth House, a 17th-century stately home near London.\\n\\nPetworth House has an amazing art collection and grounds designed by renowned landscape architect Lancelot ‘Capability’ Brown. It’s worth a special trip.',\n",
       "  'score': 0.74273956},\n",
       " {'title': '16 best day trips from London',\n",
       "  'url': 'https://www.visitlondon.com/things-to-do/sightseeing/sightseeing-tours/day-trips-from-london/days-out',\n",
       "  'content': \"London Eye\\n   Buckingham Palace\\n   Madame Tussauds\\n   Sea Life London\\n   Tower of London\\n   Windsor Castle\\n   Westminster Abbey\\n   St Paul's Cathedral\\n   London attractions pass\\n\\nTop London tours\\n\\n   Windsor Castle, Bath & Stonehenge Tour\\n   Hop-on Hop-off London Bus Tour\\n   London by Night Open Top Bus Tour\\n   Total London Experience\\n   Afternoon Tea Bus Panoramic Tour\\n   Buckingham Palace Tour\\n   Oxford and Cambridge Tour\\n   Warner Bros. Studio Tour\\n   Borough Market Food Tour [...] Windsor Castle is more than 900 years old and is the official residence of the Royal family. Visit the state rooms, St George's Chapel and see Queen Mary's Dolls' House – a wonder of fine craftsmanship – as well as other decor and artefacts within the castle and grounds. [...] See idyllic villages, undulating green hills, gorgeous limestone buildings, beautiful gardens and old pubs on one of the best day trips from London. Keep your camera ready on this one-day tour of the Cotswolds, whose bustling market towns are great for gentle strolls.\",\n",
       "  'score': 0.68697983},\n",
       " {'title': 'The 22 Best Day Trips From London | Condé Nast Traveler',\n",
       "  'url': 'https://www.cntraveler.com/gallery/day-trips-from-london',\n",
       "  'content': 'shelves of hardbacks tower over fat leather armchairs and blackboard tables that you can doodle on in chalk. There are endless places to eat and drink around town: Rocksalt for a smart menu and sea views; Papas for old-fashioned fish’n’chips; Beano’s for veggies; La Casa Del Bello Gelato for ice cream Follies for pizza; and The Pullman for pints. The Harbour Arm, though, is where Folkestone’s own folk go—the Champagne bar hidden in the lighthouse at the end is rustic, romantic, and completely [...] Baroque periods. If you’re escaping the city (and the kids), however, check in at Grayshott Health Spa, a traditional country home with cutting-edge treatments. Surrounded by 47 acres of flowering gardens, it’s a peaceful place to step back and take stock. Connect with nature at Kew, too, where the Royal Botanic Gardens are open to the public all year round. The winter light show is particularly mesmerizing, when the sun starts to sink earlier and earlier. Be sure to take cash for mince pies [...] For more contemporary art head to Crate, an artist-led project space in an old printworks. If you’d prefer something older—much older—wander over to the most ancient building in town, the Tudor House, a Grade II-listed 16th-century timber-framed house on King Street. It’s on your route from the seafront to the mysterious Shell Grotto, a spooky set of underground tunnels covered in more than four million shells.',\n",
       "  'score': 0.6133529},\n",
       " {'title': 'Where to go outside London - Rick Steves Travel Forum',\n",
       "  'url': 'https://community.ricksteves.com/travel-forum/england/where-to-go-outside-london',\n",
       "  'content': 'Posted by Kernow\\n\\nCornwall \\n\\n02/17/23 09:25 PM\\n\\n332 posts\\n\\nDoes it have to be The Cotswolds? So many nicer, less crowded places.\\n\\nSuffolk? Check out Orford and Orford Ness, Southwold.\\n\\n North Norfolk coast? Cley, Blakeney,\\n\\n Dorset? Abbotsbury, Lyme Regis\\n\\n New Forest\\n\\n Rutland (the same stone outcrop The Cotswolds is made of. Virtually no tourists.\\n\\n Kent? Whitstable, Rochester\\n\\n Posted by Pat\\n\\nback in the Americas\\n\\n02/17/23 10:03 PM\\n\\n766 posts',\n",
       "  'score': 0.5404151}]"
      ]
     },
     "execution_count": 4,
     "metadata": {},
     "output_type": "execute_result"
    }
   ],
   "source": [
    "import os\n",
    "from langchain_community.tools.tavily_search import TavilySearchResults\n",
    "os.environ[\"TAVILY_API_KEY\"] = os.getenv(\"TAVILY_API_KEY\")\n",
    "tavily_tool = TavilySearchResults(include_answer=True)\n",
    "place = \"London\"\n",
    "result = tavily_tool.invoke({\"query\": f\"Top attractive places in and around {place}\"})\n",
    "result"
   ]
  },
  {
   "cell_type": "code",
   "execution_count": 8,
   "id": "0e07efde",
   "metadata": {},
   "outputs": [
    {
     "data": {
      "text/plain": [
       "\"1. Tower of London\\nAddress: London EC3N 4AB, UK\\nGoogle place ID: ChIJ3TgfM0kDdkgRZ2TV4d1Jv6g\\nPhone: 0333 320 6000\\nWebsite: https://www.hrp.org.uk/tower-of-london/\\n\\n\\n2. The View from The Shard\\nAddress: 32 London Bridge St, London SE1 9SG, UK\\nGoogle place ID: ChIJDbhTs1ADdkgR-2MjTkoJXXg\\nPhone: 0344 499 7222\\nWebsite: https://www.theviewfromtheshard.com/\\n\\n\\n3. The London Dungeon\\nAddress: Riverside Building, County Hall, Westminster Bridge Rd, London SE1 7PB, UK\\nGoogle place ID: ChIJk9LIC8cEdkgR2TkO-raMEDk\\nPhone: 020 7967 8022\\nWebsite: https://www.thedungeons.com/london/\\n\\n\\n4. Tower Bridge\\nAddress: Tower Bridge Rd, London SE1 2UP, UK\\nGoogle place ID: ChIJSdtli0MDdkgRLW9aCBpCeJ4\\nPhone: 020 7403 3761\\nWebsite: http://www.towerbridge.org.uk/\\n\\n\\n5. lastminute.com London Eye\\nAddress: Riverside Building, County Hall, London SE1 7PB, UK\\nGoogle place ID: ChIJc2nSALkEdkgRkuoJJBfzkUI\\nPhone: 020 7967 8021\\nWebsite: https://www.londoneye.com/\\n\\n\\n6. SEA LIFE London Aquarium\\nAddress: Riverside Building, County Hall, Westminster Bridge Rd, London SE1 7PB, UK\\nGoogle place ID: ChIJc2nSALkEdkgRviluWxwFsxA\\nPhone: 020 7967 8025\\nWebsite: https://www.visitsealife.com/london/\\n\\n\\n7. Hyde Park\\nAddress: London, UK\\nGoogle place ID: ChIJhRoYKUkFdkgRDL20SU9sr9E\\nPhone: 0300 061 2000\\nWebsite: https://www.royalparks.org.uk/visit/parks/hyde-park?utm_source=google&utm_medium=organic&utm_campaign=google-my-business&utm_content=hyde-park\\n\\n\\n8. Trafalgar Square\\nAddress: Trafalgar Sq, London WC2N 5DS, UK\\nGoogle place ID: ChIJH-tBOc4EdkgRJ8aJ8P1CUxo\\nPhone: Unknown\\nWebsite: https://www.london.gov.uk/who-we-are/city-halls-buildings-and-squares/trafalgar-square\\n\\n\\n9. Buckingham Palace\\nAddress: London SW1A 1AA, UK\\nGoogle place ID: ChIJtV5bzSAFdkgRpwLZFPWrJgo\\nPhone: 0303 123 7300\\nWebsite: https://www.rct.uk/visit/buckingham-palace\\n\\n\\n10. Kensington Gardens\\nAddress: London, UK\\nGoogle place ID: ChIJPaOn4FAFdkgRfLe2KIKp7mI\\nPhone: 0300 061 2000\\nWebsite: https://www.royalparks.org.uk/visit/parks/kensington-gardens?utm_source=google&utm_medium=organic&utm_campaign=google-my-business&utm_content=kensington-gardens\\n\\n\\n11. Westminster Abbey\\nAddress: Dean's Yard, London SW1P 3PA, UK\\nGoogle place ID: ChIJLzVDusQEdkgRelObBaL_jto\\nPhone: 020 7222 5152\\nWebsite: https://www.westminster-abbey.org/\\n\\n\\n12. Big Ben\\nAddress: London SW1A 0AA, UK\\nGoogle place ID: ChIJ2dGMjMMEdkgRqVqkuXQkj7c\\nPhone: 020 7219 4272\\nWebsite: https://www.parliament.uk/bigben\\n\\n\\n13. Victoria and Albert Museum\\nAddress: Cromwell Rd, London SW7 2RL, UK\\nGoogle place ID: ChIJw1d-sUMFdkgRH2XN_U0Jt54\\nPhone: 020 7942 2000\\nWebsite: https://www.vam.ac.uk/south-kensington\\n\\n\\n14. London Wall\\nAddress: Tower Hill, London EC3N 4DJ, UK\\nGoogle place ID: ChIJiztkrE4DdkgRp4kYU3gUOnM\\nPhone: 0370 333 1181\\nWebsite: http://www.english-heritage.org.uk/visit/places/london-wall/?utm_source=Google%20Business&utm_campaign=Local%20Listings&utm_medium=Google%20Business%20Profiles&utm_content=london%20wall\\n\\n\\n15. The Shard\\nAddress: 32 London Bridge St, London SE1 9SG, UK\\nGoogle place ID: ChIJ03GSCloDdkgRe_s-p2vyvQA\\nPhone: 0344 499 7222\\nWebsite: https://www.the-shard.com/\\n\\n\\n16. Palace of Westminster\\nAddress: London SW1A 0AA, UK\\nGoogle place ID: ChIJmZuNDMQEdkgRfB9O9456eQc\\nPhone: 020 7219 3000\\nWebsite: https://www.parliament.uk/about/living-heritage/building/palace/\\n\\n\\n17. St James's Park\\nAddress: London SW1A 2BJ, UK\\nGoogle place ID: ChIJG-CxwNoEdkgRXx26gHZwVf8\\nPhone: 0300 061 2350\\nWebsite: https://www.royalparks.org.uk/visit/parks/st-jamess-park\\n\\n\\n18. St. Paul's Cathedral\\nAddress: St. Paul's Churchyard, London EC4M 8AD, UK\\nGoogle place ID: ChIJh7wHoqwEdkgR3l-vqQE1HTo\\nPhone: 020 7246 8350\\nWebsite: https://www.stpauls.co.uk/\\n\\n\\n19. The British Museum\\nAddress: Great Russell St, London WC1B 3DG, UK\\nGoogle place ID: ChIJB9OTMDIbdkgRp0JWbQGZsS8\\nPhone: 020 7323 8000\\nWebsite: https://www.britishmuseum.org/\\n\\n\\n20. London Bridge\\nAddress: London EC4R 3TN, UK\\nGoogle place ID: ChIJxRO7WVEDdkgRrGM1fCYoHqY\\nPhone: Unknown\\nWebsite: https://www.cityoflondon.gov.uk/things-to-do/architecture/bridges\\n\\n\""
      ]
     },
     "execution_count": 8,
     "metadata": {},
     "output_type": "execute_result"
    }
   ],
   "source": [
    "from langchain_google_community import GooglePlacesAPIWrapper, GooglePlacesTool\n",
    "api_key = os.getenv(\"GPLACES_API_KEY\")\n",
    "google_places_api_wrapper = GooglePlacesAPIWrapper(gplaces_api_key = api_key)\n",
    "google_places_tool = GooglePlacesTool(api_wrapper = google_places_api_wrapper)\n",
    "\n",
    "place = \"London\"\n",
    "google_places_tool.run(f\"Top attractive places in and around {place}\")"
   ]
  },
  {
   "cell_type": "code",
   "execution_count": null,
   "id": "1b523590",
   "metadata": {},
   "outputs": [],
   "source": []
  }
 ],
 "metadata": {
  "kernelspec": {
   "display_name": "ai-trip-planner",
   "language": "python",
   "name": "python3"
  },
  "language_info": {
   "codemirror_mode": {
    "name": "ipython",
    "version": 3
   },
   "file_extension": ".py",
   "mimetype": "text/x-python",
   "name": "python",
   "nbconvert_exporter": "python",
   "pygments_lexer": "ipython3",
   "version": "3.13.2"
  }
 },
 "nbformat": 4,
 "nbformat_minor": 5
}
